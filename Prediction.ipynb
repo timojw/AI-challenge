{
 "cells": [
  {
   "cell_type": "markdown",
   "metadata": {},
   "source": [
    "# Prediction"
   ]
  },
  {
   "cell_type": "code",
   "execution_count": 7,
   "metadata": {},
   "outputs": [
    {
     "name": "stdout",
     "output_type": "stream",
     "text": [
      "   Sex   Age  BodyweightKg AgeClass  Squat1Kg  Squat2Kg  Squat3Kg  \\\n",
      "0    0  29.0          59.8    24-34      80.0      92.5     105.0   \n",
      "1    0  29.0          58.5    24-34     100.0     110.0     120.0   \n",
      "2    0  23.0          60.0    20-23    -105.0    -105.0     105.0   \n",
      "3    0  45.0         104.0    45-49     120.0     130.0     140.0   \n",
      "4    0  37.0          74.0    35-39     127.5     135.0     142.5   \n",
      "\n",
      "   Best3SquatKg  Bench1Kg  Bench2Kg  Bench3Kg  Best3BenchKg  Deadlift1Kg  \\\n",
      "0         105.0      45.0      50.0      55.0          55.0        110.0   \n",
      "1         120.0      55.0      62.5      67.5          67.5        130.0   \n",
      "2         105.0      67.5      72.5     -75.0          72.5        132.5   \n",
      "3         140.0      70.0      75.0      80.0          80.0        150.0   \n",
      "4         142.5      72.5      77.5      82.5          82.5        125.0   \n",
      "\n",
      "   Deadlift2Kg  Deadlift3Kg  Best3DeadliftKg  \n",
      "0        120.0        130.0            130.0  \n",
      "1        140.0        145.0            145.0  \n",
      "2       -140.0       -140.0            132.5  \n",
      "3        160.0        170.0            170.0  \n",
      "4        135.0        145.0            145.0  \n"
     ]
    }
   ],
   "source": [
    "import pandas as pd\n",
    "\n",
    "file_path = './data/filtered_data.csv'\n",
    "data = pd.read_csv(file_path)\n",
    "print(data.head())\n"
   ]
  },
  {
   "cell_type": "code",
   "execution_count": 8,
   "metadata": {},
   "outputs": [
    {
     "name": "stdout",
     "output_type": "stream",
     "text": [
      "<class 'pandas.core.frame.DataFrame'>\n",
      "RangeIndex: 486038 entries, 0 to 486037\n",
      "Data columns (total 16 columns):\n",
      " #   Column           Non-Null Count   Dtype  \n",
      "---  ------           --------------   -----  \n",
      " 0   Sex              486038 non-null  int64  \n",
      " 1   Age              486038 non-null  float64\n",
      " 2   BodyweightKg     486038 non-null  float64\n",
      " 3   AgeClass         485949 non-null  object \n",
      " 4   Squat1Kg         264359 non-null  float64\n",
      " 5   Squat2Kg         261447 non-null  float64\n",
      " 6   Squat3Kg         254484 non-null  float64\n",
      " 7   Best3SquatKg     486038 non-null  float64\n",
      " 8   Bench1Kg         264315 non-null  float64\n",
      " 9   Bench2Kg         261943 non-null  float64\n",
      " 10  Bench3Kg         254429 non-null  float64\n",
      " 11  Best3BenchKg     486038 non-null  float64\n",
      " 12  Deadlift1Kg      264496 non-null  float64\n",
      " 13  Deadlift2Kg      260505 non-null  float64\n",
      " 14  Deadlift3Kg      249573 non-null  float64\n",
      " 15  Best3DeadliftKg  486038 non-null  float64\n",
      "dtypes: float64(14), int64(1), object(1)\n",
      "memory usage: 59.3+ MB\n",
      "None\n"
     ]
    }
   ],
   "source": [
    "print(data.info())\n",
    "data = data.dropna(subset=['Age', 'BodyweightKg', 'Best3SquatKg'])"
   ]
  },
  {
   "cell_type": "markdown",
   "metadata": {},
   "source": [
    "## Polynomal Regression\n",
    "Polynomial regression is a form of linear regression in which the relationship between the independent variable xx and the dependent variable yy is modeled as an nth degree polynomial. Unlike simple linear regression, which models the relationship as a straight line, polynomial regression can fit a wide range of curvature in the data. This flexibility makes it particularly useful for modeling datasets where the relationship between variables is not linear but still follows a specific trend."
   ]
  },
  {
   "cell_type": "code",
   "execution_count": 13,
   "metadata": {},
   "outputs": [
    {
     "data": {
      "text/html": [
       "<div>\n",
       "<style scoped>\n",
       "    .dataframe tbody tr th:only-of-type {\n",
       "        vertical-align: middle;\n",
       "    }\n",
       "\n",
       "    .dataframe tbody tr th {\n",
       "        vertical-align: top;\n",
       "    }\n",
       "\n",
       "    .dataframe thead th {\n",
       "        text-align: right;\n",
       "    }\n",
       "</style>\n",
       "<table border=\"1\" class=\"dataframe\">\n",
       "  <thead>\n",
       "    <tr style=\"text-align: right;\">\n",
       "      <th></th>\n",
       "      <th>Metric</th>\n",
       "      <th>Value</th>\n",
       "    </tr>\n",
       "  </thead>\n",
       "  <tbody>\n",
       "    <tr>\n",
       "      <th>0</th>\n",
       "      <td>Mean Squared Error (MSE)</td>\n",
       "      <td>2257.131963</td>\n",
       "    </tr>\n",
       "    <tr>\n",
       "      <th>1</th>\n",
       "      <td>R-squared (R²)</td>\n",
       "      <td>0.568054</td>\n",
       "    </tr>\n",
       "  </tbody>\n",
       "</table>\n",
       "</div>"
      ],
      "text/plain": [
       "                     Metric        Value\n",
       "0  Mean Squared Error (MSE)  2257.131963\n",
       "1            R-squared (R²)     0.568054"
      ]
     },
     "execution_count": 13,
     "metadata": {},
     "output_type": "execute_result"
    }
   ],
   "source": [
    "from math import sqrt\n",
    "from sklearn.model_selection import train_test_split\n",
    "from sklearn.preprocessing import PolynomialFeatures\n",
    "from sklearn.linear_model import LinearRegression\n",
    "from sklearn.metrics import mean_squared_error, r2_score\n",
    "\n",
    "features = data[['Age', 'BodyweightKg', 'Sex']]\n",
    "target = data['Best3SquatKg']\n",
    "\n",
    "# Splitting the data\n",
    "X_train, X_test, y_train, y_test = train_test_split(features, target, test_size=0.1)\n",
    "\n",
    "# Generating polynomial features\n",
    "poly_degree = 2\n",
    "poly_features = PolynomialFeatures(degree=poly_degree)\n",
    "\n",
    "X_train_poly = poly_features.fit_transform(X_train)\n",
    "X_test_poly = poly_features.transform(X_test)\n",
    "\n",
    "# Training the model\n",
    "poly_model_squat = LinearRegression()\n",
    "poly_model_squat.fit(X_train_poly, y_train)\n",
    "\n",
    "# Making predictions and evaluating the model\n",
    "y_pred = poly_model_squat.predict(X_test_poly)\n",
    "\n",
    "mse = mean_squared_error(y_test, y_pred)\n",
    "r2 = r2_score(y_test, y_pred)\n",
    "\n",
    "# Creating a DataFrame to display the values\n",
    "error_metrics = pd.DataFrame({\n",
    "    \"Metric\": [\"Mean Squared Error (MSE)\", \"R-squared (R²)\"],\n",
    "    \"Value\": [mse, r2]\n",
    "})\n",
    "\n",
    "error_metrics\n"
   ]
  },
  {
   "cell_type": "code",
   "execution_count": 14,
   "metadata": {},
   "outputs": [
    {
     "data": {
      "text/html": [
       "<div>\n",
       "<style scoped>\n",
       "    .dataframe tbody tr th:only-of-type {\n",
       "        vertical-align: middle;\n",
       "    }\n",
       "\n",
       "    .dataframe tbody tr th {\n",
       "        vertical-align: top;\n",
       "    }\n",
       "\n",
       "    .dataframe thead th {\n",
       "        text-align: right;\n",
       "    }\n",
       "</style>\n",
       "<table border=\"1\" class=\"dataframe\">\n",
       "  <thead>\n",
       "    <tr style=\"text-align: right;\">\n",
       "      <th></th>\n",
       "      <th>Metric</th>\n",
       "      <th>Value</th>\n",
       "    </tr>\n",
       "  </thead>\n",
       "  <tbody>\n",
       "    <tr>\n",
       "      <th>0</th>\n",
       "      <td>Mean Squared Error (MSE)</td>\n",
       "      <td>957.552367</td>\n",
       "    </tr>\n",
       "    <tr>\n",
       "      <th>1</th>\n",
       "      <td>R-squared (R²)</td>\n",
       "      <td>0.645674</td>\n",
       "    </tr>\n",
       "  </tbody>\n",
       "</table>\n",
       "</div>"
      ],
      "text/plain": [
       "                     Metric       Value\n",
       "0  Mean Squared Error (MSE)  957.552367\n",
       "1            R-squared (R²)    0.645674"
      ]
     },
     "execution_count": 14,
     "metadata": {},
     "output_type": "execute_result"
    }
   ],
   "source": [
    "features = data[['Age', 'BodyweightKg', 'Sex']]\n",
    "target = data['Best3BenchKg']\n",
    "\n",
    "# Splitting the data\n",
    "X_train, X_test, y_train, y_test = train_test_split(features, target, test_size=0.1)\n",
    "\n",
    "# Generating polynomial features\n",
    "poly_degree = 2\n",
    "poly_features = PolynomialFeatures(degree=poly_degree)\n",
    "\n",
    "X_train_poly = poly_features.fit_transform(X_train)\n",
    "X_test_poly = poly_features.transform(X_test)\n",
    "\n",
    "# Training the model\n",
    "poly_model_bench = LinearRegression()\n",
    "poly_model_bench.fit(X_train_poly, y_train)\n",
    "\n",
    "# Making predictions and evaluating the model\n",
    "y_pred = poly_model_bench.predict(X_test_poly)\n",
    "\n",
    "mse = mean_squared_error(y_test, y_pred)\n",
    "r2 = r2_score(y_test, y_pred)\n",
    "\n",
    "# Creating a DataFrame to display the values\n",
    "error_metrics = pd.DataFrame({\n",
    "    \"Metric\": [\"Mean Squared Error (MSE)\", \"R-squared (R²)\"],\n",
    "    \"Value\": [mse, r2]\n",
    "})\n",
    "\n",
    "error_metrics\n"
   ]
  },
  {
   "cell_type": "code",
   "execution_count": 15,
   "metadata": {},
   "outputs": [
    {
     "data": {
      "text/html": [
       "<div>\n",
       "<style scoped>\n",
       "    .dataframe tbody tr th:only-of-type {\n",
       "        vertical-align: middle;\n",
       "    }\n",
       "\n",
       "    .dataframe tbody tr th {\n",
       "        vertical-align: top;\n",
       "    }\n",
       "\n",
       "    .dataframe thead th {\n",
       "        text-align: right;\n",
       "    }\n",
       "</style>\n",
       "<table border=\"1\" class=\"dataframe\">\n",
       "  <thead>\n",
       "    <tr style=\"text-align: right;\">\n",
       "      <th></th>\n",
       "      <th>Metric</th>\n",
       "      <th>Value</th>\n",
       "    </tr>\n",
       "  </thead>\n",
       "  <tbody>\n",
       "    <tr>\n",
       "      <th>0</th>\n",
       "      <td>Mean Squared Error (MSE)</td>\n",
       "      <td>1357.225400</td>\n",
       "    </tr>\n",
       "    <tr>\n",
       "      <th>1</th>\n",
       "      <td>R-squared (R²)</td>\n",
       "      <td>0.652179</td>\n",
       "    </tr>\n",
       "  </tbody>\n",
       "</table>\n",
       "</div>"
      ],
      "text/plain": [
       "                     Metric        Value\n",
       "0  Mean Squared Error (MSE)  1357.225400\n",
       "1            R-squared (R²)     0.652179"
      ]
     },
     "execution_count": 15,
     "metadata": {},
     "output_type": "execute_result"
    }
   ],
   "source": [
    "features = data[['Age', 'BodyweightKg', 'Sex']]\n",
    "target = data['Best3DeadliftKg']\n",
    "\n",
    "# Splitting the data\n",
    "X_train, X_test, y_train, y_test = train_test_split(features, target, test_size=0.1)\n",
    "\n",
    "# Generating polynomial features\n",
    "poly_degree = 2\n",
    "poly_features = PolynomialFeatures(degree=poly_degree)\n",
    "\n",
    "X_train_poly = poly_features.fit_transform(X_train)\n",
    "X_test_poly = poly_features.transform(X_test)\n",
    "\n",
    "# Training the model\n",
    "poly_model_deadlift = LinearRegression()\n",
    "poly_model_deadlift.fit(X_train_poly, y_train)\n",
    "\n",
    "# Making predictions and evaluating the model\n",
    "y_pred = poly_model_deadlift.predict(X_test_poly)\n",
    "\n",
    "mse = mean_squared_error(y_test, y_pred)\n",
    "r2 = r2_score(y_test, y_pred)\n",
    "\n",
    "# Creating a DataFrame to display the values\n",
    "error_metrics = pd.DataFrame({\n",
    "    \"Metric\": [\"Mean Squared Error (MSE)\", \"R-squared (R²)\"],\n",
    "    \"Value\": [mse, r2]\n",
    "})\n",
    "\n",
    "error_metrics\n"
   ]
  },
  {
   "cell_type": "markdown",
   "metadata": {},
   "source": [
    "## Random Forest Regressor\n",
    "Random Forest is an ensemble learning method, particularly effective for regression tasks. It operates by constructing multiple decision trees during training and outputting the mean or average prediction of the individual trees. This approach helps in reducing overfitting, a common problem in decision tree models, and improves the predictive accuracy."
   ]
  },
  {
   "cell_type": "code",
   "execution_count": 4,
   "metadata": {},
   "outputs": [
    {
     "data": {
      "text/html": [
       "<div>\n",
       "<style scoped>\n",
       "    .dataframe tbody tr th:only-of-type {\n",
       "        vertical-align: middle;\n",
       "    }\n",
       "\n",
       "    .dataframe tbody tr th {\n",
       "        vertical-align: top;\n",
       "    }\n",
       "\n",
       "    .dataframe thead th {\n",
       "        text-align: right;\n",
       "    }\n",
       "</style>\n",
       "<table border=\"1\" class=\"dataframe\">\n",
       "  <thead>\n",
       "    <tr style=\"text-align: right;\">\n",
       "      <th></th>\n",
       "      <th>Metric</th>\n",
       "      <th>Value</th>\n",
       "    </tr>\n",
       "  </thead>\n",
       "  <tbody>\n",
       "    <tr>\n",
       "      <th>0</th>\n",
       "      <td>Mean Squared Error (MSE)</td>\n",
       "      <td>1900.001312</td>\n",
       "    </tr>\n",
       "    <tr>\n",
       "      <th>1</th>\n",
       "      <td>R-squared (R²)</td>\n",
       "      <td>0.165592</td>\n",
       "    </tr>\n",
       "  </tbody>\n",
       "</table>\n",
       "</div>"
      ],
      "text/plain": [
       "                     Metric        Value\n",
       "0  Mean Squared Error (MSE)  1900.001312\n",
       "1            R-squared (R²)     0.165592"
      ]
     },
     "execution_count": 4,
     "metadata": {},
     "output_type": "execute_result"
    }
   ],
   "source": [
    "from sklearn.ensemble import RandomForestRegressor\n",
    "\n",
    "# Define the features and the target\n",
    "X = data[['Age', 'BodyweightKg']]\n",
    "y = data['Best3SquatKg']\n",
    "\n",
    "# Spliting the data\n",
    "X_train, X_test, y_train, y_test = train_test_split(X, y, test_size=0.2)\n",
    "\n",
    "# Initialize the Random Forest Regressor\n",
    "rf_regressor = RandomForestRegressor(n_estimators=100)\n",
    "\n",
    "# Train the model\n",
    "rf_regressor.fit(X_train, y_train)\n",
    "\n",
    "# Predict on the test set\n",
    "y_pred = rf_regressor.predict(X_test)\n",
    "\n",
    "# Evaluate the model\n",
    "mse = mean_squared_error(y_test, y_pred)\n",
    "r2 = r2_score(y_test, y_pred)\n",
    "\n",
    "# Creating a DataFrame to display the values\n",
    "error_metrics = pd.DataFrame({\n",
    "    \"Metric\": [\"Mean Squared Error (MSE)\", \"R-squared (R²)\"],\n",
    "    \"Value\": [mse, r2]\n",
    "})\n",
    "\n",
    "error_metrics\n"
   ]
  },
  {
   "cell_type": "markdown",
   "metadata": {},
   "source": [
    "## MLP Regression\n",
    "MLP Regression refers to the application of a Multi-Layer Perceptron, a class of feedforward artificial neural network, to regression tasks. MLP consists of multiple layers of nodes, simulating a biological neural network, which makes it highly effective in capturing complex and non-linear relationships in data."
   ]
  },
  {
   "cell_type": "code",
   "execution_count": 5,
   "metadata": {},
   "outputs": [
    {
     "data": {
      "text/html": [
       "<div>\n",
       "<style scoped>\n",
       "    .dataframe tbody tr th:only-of-type {\n",
       "        vertical-align: middle;\n",
       "    }\n",
       "\n",
       "    .dataframe tbody tr th {\n",
       "        vertical-align: top;\n",
       "    }\n",
       "\n",
       "    .dataframe thead th {\n",
       "        text-align: right;\n",
       "    }\n",
       "</style>\n",
       "<table border=\"1\" class=\"dataframe\">\n",
       "  <thead>\n",
       "    <tr style=\"text-align: right;\">\n",
       "      <th></th>\n",
       "      <th>Metric</th>\n",
       "      <th>Value</th>\n",
       "    </tr>\n",
       "  </thead>\n",
       "  <tbody>\n",
       "    <tr>\n",
       "      <th>0</th>\n",
       "      <td>Mean Squared Error (MSE)</td>\n",
       "      <td>1884.384624</td>\n",
       "    </tr>\n",
       "    <tr>\n",
       "      <th>1</th>\n",
       "      <td>R-squared (R²)</td>\n",
       "      <td>-0.420458</td>\n",
       "    </tr>\n",
       "  </tbody>\n",
       "</table>\n",
       "</div>"
      ],
      "text/plain": [
       "                     Metric        Value\n",
       "0  Mean Squared Error (MSE)  1884.384624\n",
       "1            R-squared (R²)    -0.420458"
      ]
     },
     "execution_count": 5,
     "metadata": {},
     "output_type": "execute_result"
    }
   ],
   "source": [
    "from sklearn.model_selection import train_test_split\n",
    "from sklearn.neural_network import MLPRegressor\n",
    "\n",
    "X = data[['Age', 'BodyweightKg']]\n",
    "y = data['Best3SquatKg']\n",
    "\n",
    "# Splitting the data\n",
    "X_train, X_test, y_train, y_test = train_test_split(X, y, test_size=0.2)\n",
    "\n",
    "# Create the MLPRegressor model\n",
    "model = MLPRegressor(hidden_layer_sizes=(200, 200, 200), activation='relu', \n",
    "                     solver='adam', max_iter=500, random_state=1)\n",
    "\n",
    "# Fit the model\n",
    "model.fit(X_train, y_train)\n",
    "\n",
    "# Make predictions on the test set\n",
    "predictions = model.predict(X_test)\n",
    "\n",
    "# Calculate Mean Squared Error\n",
    "mse = mean_squared_error(y_test, predictions)\n",
    "r2 = r2_score(y_test, y_pred)\n",
    "\n",
    "# Creating a DataFrame to display the values\n",
    "error_metrics = pd.DataFrame({\n",
    "    \"Metric\": [\"Mean Squared Error (MSE)\", \"R-squared (R²)\"],\n",
    "    \"Value\": [mse, r2]\n",
    "})\n",
    "\n",
    "error_metrics\n"
   ]
  },
  {
   "cell_type": "markdown",
   "metadata": {},
   "source": [
    "## Conclusion\n",
    "\n",
    "It appears that the models I've experimented with aren't performing as expected. Despite various attempts and configurations, the accuracy remains unsatisfactorily low, and the last model even yielded a negative R² score, which suggests there might be some issues in my approach. This leads me to believe that our current dataset might be insufficient for accurate predictions. Incorporating additional features, such as muscle mass, nutritional habits, and body length, could potentially enhance the model's predictive power and provide a more comprehensive understanding of the factors influencing the outcomes. Other ways could be to use Grid Search or Random Search for hyperparameter tuning to improve the models."
   ]
  },
  {
   "cell_type": "code",
   "execution_count": 6,
   "metadata": {},
   "outputs": [],
   "source": [
    "import pickle\n",
    "\n",
    "with open('model_squat.pkl', 'wb') as file:\n",
    "    pickle.dump(poly_model_squat, file)\n",
    "\n",
    "with open('model_bench.pkl', 'wb') as file:\n",
    "    pickle.dump(poly_model_bench, file)\n",
    "\n",
    "with open('model_deadlift.pkl', 'wb') as file:\n",
    "    pickle.dump(poly_model_deadlift, file)"
   ]
  }
 ],
 "metadata": {
  "kernelspec": {
   "display_name": "Python 3",
   "language": "python",
   "name": "python3"
  },
  "language_info": {
   "codemirror_mode": {
    "name": "ipython",
    "version": 3
   },
   "file_extension": ".py",
   "mimetype": "text/x-python",
   "name": "python",
   "nbconvert_exporter": "python",
   "pygments_lexer": "ipython3",
   "version": "3.11.7"
  }
 },
 "nbformat": 4,
 "nbformat_minor": 2
}
