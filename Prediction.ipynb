{
 "cells": [
  {
   "cell_type": "markdown",
   "metadata": {},
   "source": [
    "# Prediction"
   ]
  },
  {
   "cell_type": "code",
   "execution_count": 1,
   "metadata": {},
   "outputs": [
    {
     "name": "stdout",
     "output_type": "stream",
     "text": [
      "   Sex   Age  BodyweightKg AgeClass  Squat1Kg  Squat2Kg  Squat3Kg  \\\n",
      "0    1  19.0          73.1    18-19     210.0    -220.0    -220.0   \n",
      "1    1  28.0          74.9    24-34     190.0     200.0     210.0   \n",
      "2    1  19.0          74.1    18-19     150.0     160.0     165.0   \n",
      "3    1  25.0          74.2    24-34     255.0     275.0     290.0   \n",
      "4    1  21.0          74.9    20-23     200.0     217.5    -225.0   \n",
      "\n",
      "   Best3SquatKg  Bench1Kg  Bench2Kg  Bench3Kg  Best3BenchKg  Deadlift1Kg  \\\n",
      "0         210.0    -120.0    -120.0     120.0         120.0       -250.0   \n",
      "1         210.0     135.0     140.0     142.5         142.5        250.0   \n",
      "2         165.0     125.0    -132.5     135.0         135.0        225.0   \n",
      "3         290.0     160.0     170.0     175.0         175.0        270.0   \n",
      "4         217.5     110.0     120.0    -127.5         120.0        217.5   \n",
      "\n",
      "   Deadlift2Kg  Deadlift3Kg  Best3DeadliftKg  \n",
      "0       -250.0        250.0            250.0  \n",
      "1       -265.0       -270.0            250.0  \n",
      "2       -240.0        240.0            240.0  \n",
      "3        285.0       -295.0            285.0  \n",
      "4        232.5        242.5            242.5  \n"
     ]
    }
   ],
   "source": [
    "import pandas as pd\n",
    "\n",
    "file_path = './data/filtered_data.csv'\n",
    "data = pd.read_csv(file_path)\n",
    "print(data.head())\n"
   ]
  },
  {
   "cell_type": "code",
   "execution_count": 2,
   "metadata": {},
   "outputs": [
    {
     "name": "stdout",
     "output_type": "stream",
     "text": [
      "<class 'pandas.core.frame.DataFrame'>\n",
      "RangeIndex: 42946 entries, 0 to 42945\n",
      "Data columns (total 16 columns):\n",
      " #   Column           Non-Null Count  Dtype  \n",
      "---  ------           --------------  -----  \n",
      " 0   Sex              42946 non-null  int64  \n",
      " 1   Age              42946 non-null  float64\n",
      " 2   BodyweightKg     42946 non-null  float64\n",
      " 3   AgeClass         42936 non-null  object \n",
      " 4   Squat1Kg         23772 non-null  float64\n",
      " 5   Squat2Kg         23566 non-null  float64\n",
      " 6   Squat3Kg         22990 non-null  float64\n",
      " 7   Best3SquatKg     42946 non-null  float64\n",
      " 8   Bench1Kg         23769 non-null  float64\n",
      " 9   Bench2Kg         23585 non-null  float64\n",
      " 10  Bench3Kg         22876 non-null  float64\n",
      " 11  Best3BenchKg     42946 non-null  float64\n",
      " 12  Deadlift1Kg      23788 non-null  float64\n",
      " 13  Deadlift2Kg      23489 non-null  float64\n",
      " 14  Deadlift3Kg      22442 non-null  float64\n",
      " 15  Best3DeadliftKg  42946 non-null  float64\n",
      "dtypes: float64(14), int64(1), object(1)\n",
      "memory usage: 5.2+ MB\n",
      "None\n"
     ]
    }
   ],
   "source": [
    "print(data.info())\n",
    "data = data.dropna(subset=['Age', 'BodyweightKg', 'Best3SquatKg'])"
   ]
  },
  {
   "cell_type": "markdown",
   "metadata": {},
   "source": [
    "## Polynomal Regression\n",
    "Polynomial regression is a form of linear regression in which the relationship between the independent variable xx and the dependent variable yy is modeled as an nth degree polynomial. Unlike simple linear regression, which models the relationship as a straight line, polynomial regression can fit a wide range of curvature in the data. This flexibility makes it particularly useful for modeling datasets where the relationship between variables is not linear but still follows a specific trend."
   ]
  },
  {
   "cell_type": "code",
   "execution_count": 3,
   "metadata": {},
   "outputs": [
    {
     "data": {
      "text/html": [
       "<div>\n",
       "<style scoped>\n",
       "    .dataframe tbody tr th:only-of-type {\n",
       "        vertical-align: middle;\n",
       "    }\n",
       "\n",
       "    .dataframe tbody tr th {\n",
       "        vertical-align: top;\n",
       "    }\n",
       "\n",
       "    .dataframe thead th {\n",
       "        text-align: right;\n",
       "    }\n",
       "</style>\n",
       "<table border=\"1\" class=\"dataframe\">\n",
       "  <thead>\n",
       "    <tr style=\"text-align: right;\">\n",
       "      <th></th>\n",
       "      <th>Metric</th>\n",
       "      <th>Value</th>\n",
       "    </tr>\n",
       "  </thead>\n",
       "  <tbody>\n",
       "    <tr>\n",
       "      <th>0</th>\n",
       "      <td>Mean Squared Error (MSE)</td>\n",
       "      <td>1797.268199</td>\n",
       "    </tr>\n",
       "    <tr>\n",
       "      <th>1</th>\n",
       "      <td>R-squared (R²)</td>\n",
       "      <td>0.214059</td>\n",
       "    </tr>\n",
       "  </tbody>\n",
       "</table>\n",
       "</div>"
      ],
      "text/plain": [
       "                     Metric        Value\n",
       "0  Mean Squared Error (MSE)  1797.268199\n",
       "1            R-squared (R²)     0.214059"
      ]
     },
     "execution_count": 3,
     "metadata": {},
     "output_type": "execute_result"
    }
   ],
   "source": [
    "from math import sqrt\n",
    "from sklearn.model_selection import train_test_split\n",
    "from sklearn.preprocessing import PolynomialFeatures\n",
    "from sklearn.linear_model import LinearRegression\n",
    "from sklearn.metrics import mean_squared_error, r2_score\n",
    "\n",
    "features = data[['Age', 'BodyweightKg']]\n",
    "target = data['Best3SquatKg']\n",
    "\n",
    "# Splitting the data\n",
    "X_train, X_test, y_train, y_test = train_test_split(features, target, test_size=0.2)\n",
    "\n",
    "# Generating polynomial features\n",
    "poly_degree = 2\n",
    "poly_features = PolynomialFeatures(degree=poly_degree)\n",
    "\n",
    "X_train_poly = poly_features.fit_transform(X_train)\n",
    "X_test_poly = poly_features.transform(X_test)\n",
    "\n",
    "# Training the model\n",
    "poly_model = LinearRegression()\n",
    "poly_model.fit(X_train_poly, y_train)\n",
    "\n",
    "# Making predictions and evaluating the model\n",
    "y_pred = poly_model.predict(X_test_poly)\n",
    "\n",
    "mse = mean_squared_error(y_test, y_pred)\n",
    "r2 = r2_score(y_test, y_pred)\n",
    "\n",
    "# Creating a DataFrame to display the values\n",
    "error_metrics = pd.DataFrame({\n",
    "    \"Metric\": [\"Mean Squared Error (MSE)\", \"R-squared (R²)\"],\n",
    "    \"Value\": [mse, r2]\n",
    "})\n",
    "\n",
    "error_metrics\n"
   ]
  },
  {
   "cell_type": "markdown",
   "metadata": {},
   "source": [
    "## Random Forest Regressor\n",
    "Random Forest is an ensemble learning method, particularly effective for regression tasks. It operates by constructing multiple decision trees during training and outputting the mean or average prediction of the individual trees. This approach helps in reducing overfitting, a common problem in decision tree models, and improves the predictive accuracy."
   ]
  },
  {
   "cell_type": "code",
   "execution_count": 4,
   "metadata": {},
   "outputs": [
    {
     "data": {
      "text/plain": [
       "(1884.4420701156012, 0.17551183091425093)"
      ]
     },
     "execution_count": 4,
     "metadata": {},
     "output_type": "execute_result"
    }
   ],
   "source": [
    "from sklearn.ensemble import RandomForestRegressor\n",
    "\n",
    "# Define the features and the target\n",
    "X = data[['Age', 'BodyweightKg']]\n",
    "y = data['Best3SquatKg']\n",
    "\n",
    "# Spliting the data\n",
    "X_train, X_test, y_train, y_test = train_test_split(X, y, test_size=0.2)\n",
    "\n",
    "# Initialize the Random Forest Regressor\n",
    "rf_regressor = RandomForestRegressor(n_estimators=100)\n",
    "\n",
    "# Train the model\n",
    "rf_regressor.fit(X_train, y_train)\n",
    "\n",
    "# Predict on the test set\n",
    "y_pred = rf_regressor.predict(X_test)\n",
    "\n",
    "# Evaluate the model\n",
    "mse = mean_squared_error(y_test, y_pred)\n",
    "r2 = r2_score(y_test, y_pred)\n",
    "\n",
    "# Creating a DataFrame to display the values\n",
    "error_metrics = pd.DataFrame({\n",
    "    \"Metric\": [\"Mean Squared Error (MSE)\", \"R-squared (R²)\"],\n",
    "    \"Value\": [mse, r2]\n",
    "})\n",
    "\n",
    "error_metrics\n"
   ]
  },
  {
   "cell_type": "markdown",
   "metadata": {},
   "source": [
    "## MLP Regression\n",
    "MLP Regression refers to the application of a Multi-Layer Perceptron, a class of feedforward artificial neural network, to regression tasks. MLP consists of multiple layers of nodes, simulating a biological neural network, which makes it highly effective in capturing complex and non-linear relationships in data."
   ]
  },
  {
   "cell_type": "code",
   "execution_count": 5,
   "metadata": {},
   "outputs": [
    {
     "data": {
      "text/plain": [
       "(1805.5464686223825, -0.4065978150029137)"
      ]
     },
     "execution_count": 5,
     "metadata": {},
     "output_type": "execute_result"
    }
   ],
   "source": [
    "from sklearn.model_selection import train_test_split\n",
    "from sklearn.neural_network import MLPRegressor\n",
    "\n",
    "X = data[['Age', 'BodyweightKg']]\n",
    "y = data['Best3SquatKg']\n",
    "\n",
    "# Splitting the data\n",
    "X_train, X_test, y_train, y_test = train_test_split(X, y, test_size=0.2)\n",
    "\n",
    "# Create the MLPRegressor model\n",
    "model = MLPRegressor(hidden_layer_sizes=(200, 200, 200), activation='relu', \n",
    "                     solver='adam', max_iter=500, random_state=1)\n",
    "\n",
    "# Fit the model\n",
    "model.fit(X_train, y_train)\n",
    "\n",
    "# Make predictions on the test set\n",
    "predictions = model.predict(X_test)\n",
    "\n",
    "# Calculate Mean Squared Error\n",
    "mse = mean_squared_error(y_test, predictions)\n",
    "r2 = r2_score(y_test, y_pred)\n",
    "\n",
    "# Creating a DataFrame to display the values\n",
    "error_metrics = pd.DataFrame({\n",
    "    \"Metric\": [\"Mean Squared Error (MSE)\", \"R-squared (R²)\"],\n",
    "    \"Value\": [mse, r2]\n",
    "})\n",
    "\n",
    "error_metrics\n"
   ]
  },
  {
   "cell_type": "markdown",
   "metadata": {},
   "source": [
    "## Conclusion\n",
    "\n",
    "It appears that the models I've experimented with aren't performing as expected. Despite various attempts and configurations, the accuracy remains unsatisfactorily low, and the last model even yielded a negative R² score, which suggests there might be some issues in my approach. This leads me to believe that our current dataset might be insufficient for accurate predictions. Incorporating additional features, such as muscle mass, nutritional habits, and body length, could potentially enhance the model's predictive power and provide a more comprehensive understanding of the factors influencing the outcomes. Other ways could be to use Grid Search or Random Search for hyperparameter tuning to improve the models."
   ]
  }
 ],
 "metadata": {
  "kernelspec": {
   "display_name": "Python 3",
   "language": "python",
   "name": "python3"
  },
  "language_info": {
   "codemirror_mode": {
    "name": "ipython",
    "version": 3
   },
   "file_extension": ".py",
   "mimetype": "text/x-python",
   "name": "python",
   "nbconvert_exporter": "python",
   "pygments_lexer": "ipython3",
   "version": "3.11.6"
  }
 },
 "nbformat": 4,
 "nbformat_minor": 2
}
